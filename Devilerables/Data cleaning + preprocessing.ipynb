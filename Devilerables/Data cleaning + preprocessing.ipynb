{
 "cells": [
  {
   "cell_type": "code",
   "execution_count": 1,
   "metadata": {},
   "outputs": [],
   "source": [
    "import scanpy as sc\n",
    "import pandas as pd"
   ]
  },
  {
   "cell_type": "code",
   "execution_count": 11,
   "metadata": {},
   "outputs": [],
   "source": [
    "#Load data and TF lists\n",
    "path_data = '/Users/gonzalomoraleschaya/University of Oregon Dropbox/Gonzalo Morales Chaya/Desktop/Class/DataScience_Bootcamp/Project/Data/T2.h5ad'\n",
    "TFs_path = '/Users/gonzalomoraleschaya/University of Oregon Dropbox/Gonzalo Morales Chaya/Desktop/Class/DataScience_Bootcamp/Project/Data/TFs.txt'\n",
    "data = sc.read_h5ad(path_data) \n",
    "TFs = pd.read_csv(TFs_path, sep='\\t')\n",
    "data_matrix = pd.DataFrame(data.X.toarray(), index=data.obs_names, columns=data.var_names)"
   ]
  },
  {
   "cell_type": "code",
   "execution_count": 9,
   "metadata": {},
   "outputs": [
    {
     "name": "stdout",
     "output_type": "stream",
     "text": [
      "No NaN values found in the data matrix.\n"
     ]
    }
   ],
   "source": [
    "#Check if there are any NaN values in the data matrix\n",
    "if data_matrix.isnull().values.any():\n",
    "    print(\"There are NaN values in the data matrix. Filling with 0.\")\n",
    "    data_matrix.fillna(0, inplace=True)\n",
    "else:\n",
    "    print(\"No NaN values found in the data matrix.\")"
   ]
  },
  {
   "cell_type": "code",
   "execution_count": 12,
   "metadata": {},
   "outputs": [
    {
     "name": "stdout",
     "output_type": "stream",
     "text": [
      "Number of genes with zero variance: 1500\n",
      "Name of the first gene with zero variance: CG14329\n",
      "Total number of genes before filtering: 21771 genes\n",
      "Number of genes after filtering: 20271 genes\n"
     ]
    }
   ],
   "source": [
    "gene_variance = data_matrix.var(axis=0)\n",
    "print(f\"Number of genes with zero variance: {(gene_variance == 0).sum()}\")\n",
    "print(f\"Name of the first gene with zero variance: {gene_variance[gene_variance == 0].index[0] if (gene_variance == 0).any() else 'None'}\")\n",
    "print(f\"Total number of genes before filtering: {data_matrix.shape[1]} genes\")\n",
    "genes_to_keep = gene_variance[gene_variance > 0].index\n",
    "data_matrix = data_matrix[genes_to_keep]\n",
    "print(f\"Number of genes after filtering: {data_matrix.shape[1]} genes\")\n"
   ]
  }
 ],
 "metadata": {
  "kernelspec": {
   "display_name": "base",
   "language": "python",
   "name": "python3"
  },
  "language_info": {
   "codemirror_mode": {
    "name": "ipython",
    "version": 3
   },
   "file_extension": ".py",
   "mimetype": "text/x-python",
   "name": "python",
   "nbconvert_exporter": "python",
   "pygments_lexer": "ipython3",
   "version": "3.12.2"
  }
 },
 "nbformat": 4,
 "nbformat_minor": 2
}
